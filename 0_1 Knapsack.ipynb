{
 "cells": [
  {
   "cell_type": "code",
   "execution_count": 1,
   "id": "eff43207",
   "metadata": {},
   "outputs": [
    {
     "name": "stdout",
     "output_type": "stream",
     "text": [
      "Max value: 220\n",
      "Selected items: [1, 2]\n"
     ]
    }
   ],
   "source": [
    "# Define knapsack function using dynamic programming\n",
    "def knapsack_dynamic_programming(values, weights, capacity):\n",
    "    n = len(values)  # Number of items\n",
    "    dp = [[0] * (capacity + 1) for _ in range(n + 1)]  # Initialize DP table\n",
    "\n",
    "    # Fill DP table\n",
    "    for i in range(n + 1):\n",
    "        for w in range(capacity + 1):\n",
    "            if i == 0 or w == 0:\n",
    "                dp[i][w] = 0  # Base case\n",
    "            elif weights[i - 1] <= w:\n",
    "                dp[i][w] = max(values[i - 1] + dp[i - 1][w - weights[i - 1]], dp[i - 1][w])  # Choose max value\n",
    "            else:\n",
    "                dp[i][w] = dp[i - 1][w]  # Exclude item\n",
    "\n",
    "    # Track selected items\n",
    "    selected_items = []\n",
    "    i, w = n, capacity\n",
    "    while i > 0 and w > 0:\n",
    "        if dp[i][w] != dp[i - 1][w]:\n",
    "            selected_items.append(i - 1)  # Add selected item\n",
    "            w -= weights[i - 1]  # Reduce capacity\n",
    "        i -= 1\n",
    "\n",
    "    selected_items.reverse()  # Reverse item order\n",
    "    return dp[n][capacity], selected_items  # Return max value and selected items\n",
    "\n",
    "# Example usage\n",
    "if __name__ == \"__main__\":\n",
    "    values = [60, 100, 120]  # Values\n",
    "    weights = [10, 20, 30]    # Weights\n",
    "    capacity = 50             # Knapsack capacity\n",
    "\n",
    "    # Solve knapsack problem\n",
    "    max_value, selected_items = knapsack_dynamic_programming(values, weights, capacity)\n",
    "    \n",
    "    # Print results\n",
    "    print(\"Max value:\", max_value)\n",
    "    print(\"Selected items:\", selected_items)\n"
   ]
  },
  {
   "cell_type": "code",
   "execution_count": null,
   "id": "3c653e59",
   "metadata": {},
   "outputs": [],
   "source": []
  }
 ],
 "metadata": {
  "kernelspec": {
   "display_name": "Python 3 (ipykernel)",
   "language": "python",
   "name": "python3"
  },
  "language_info": {
   "codemirror_mode": {
    "name": "ipython",
    "version": 3
   },
   "file_extension": ".py",
   "mimetype": "text/x-python",
   "name": "python",
   "nbconvert_exporter": "python",
   "pygments_lexer": "ipython3",
   "version": "3.11.2"
  }
 },
 "nbformat": 4,
 "nbformat_minor": 5
}
