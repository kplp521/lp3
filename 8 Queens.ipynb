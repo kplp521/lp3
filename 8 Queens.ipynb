{
 "cells": [
  {
   "cell_type": "code",
   "execution_count": 1,
   "id": "3ba20522",
   "metadata": {},
   "outputs": [
    {
     "name": "stdout",
     "output_type": "stream",
     "text": [
      "1 0 0 0 0 0 0 0 \n",
      "0 0 0 0 0 0 1 0 \n",
      "0 0 0 0 1 0 0 0 \n",
      "0 0 0 0 0 0 0 1 \n",
      "0 1 0 0 0 0 0 0 \n",
      "0 0 0 1 0 0 0 0 \n",
      "0 0 0 0 0 1 0 0 \n",
      "0 0 1 0 0 0 0 0 \n"
     ]
    },
    {
     "data": {
      "text/plain": [
       "True"
      ]
     },
     "execution_count": 1,
     "metadata": {},
     "output_type": "execute_result"
    }
   ],
   "source": [
    "def is_safe(board, row, col):\n",
    "    # Check the row on the left side\n",
    "    for i in range(col):\n",
    "        if board[row][i] == 1:\n",
    "            return False\n",
    "\n",
    "    # Check upper diagonal on the left side\n",
    "    for i, j in zip(range(row, -1, -1), range(col, -1, -1)):\n",
    "        if board[i][j] == 1:\n",
    "            return False\n",
    "\n",
    "    # Check lower diagonal on the left side\n",
    "    for i, j in zip(range(row, N, 1), range(col, -1, -1)):\n",
    "        if board[i][j] == 1:\n",
    "            return False\n",
    "\n",
    "    return True\n",
    "\n",
    "def solve_n_queens_util(board, col):\n",
    "    if col >= N:\n",
    "        return True\n",
    "\n",
    "    for i in range(N):\n",
    "        if is_safe(board, i, col):\n",
    "            board[i][col] = 1\n",
    "            if solve_n_queens_util(board, col + 1):\n",
    "                return True\n",
    "            board[i][col] = 0\n",
    "\n",
    "    return False\n",
    "\n",
    "def solve_n_queens():\n",
    "    board = [[0]*N for _ in range(N)]\n",
    "\n",
    "    if not solve_n_queens_util(board, 0):\n",
    "        print(\"Solution does not exist\")\n",
    "        return False\n",
    "\n",
    "    print_board(board)\n",
    "    return True\n",
    "\n",
    "def print_board(board):\n",
    "    for i in range(N):\n",
    "        for j in range(N):\n",
    "            print(board[i][j], end=\" \")\n",
    "        print()\n",
    "\n",
    "N = 8  # Number of queens\n",
    "solve_n_queens()\n"
   ]
  },
  {
   "cell_type": "code",
   "execution_count": null,
   "id": "fc623069",
   "metadata": {},
   "outputs": [],
   "source": []
  }
 ],
 "metadata": {
  "kernelspec": {
   "display_name": "Python 3 (ipykernel)",
   "language": "python",
   "name": "python3"
  },
  "language_info": {
   "codemirror_mode": {
    "name": "ipython",
    "version": 3
   },
   "file_extension": ".py",
   "mimetype": "text/x-python",
   "name": "python",
   "nbconvert_exporter": "python",
   "pygments_lexer": "ipython3",
   "version": "3.11.3"
  }
 },
 "nbformat": 4,
 "nbformat_minor": 5
}
