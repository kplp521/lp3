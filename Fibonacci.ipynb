{
 "cells": [
  {
   "cell_type": "code",
   "execution_count": 13,
   "id": "4fcb8d9d",
   "metadata": {},
   "outputs": [
    {
     "name": "stdout",
     "output_type": "stream",
     "text": [
      "Enter the number of terms for Fibonacci series: 1\n",
      "Fibonacci series up to 1 terms: [0, 1]\n"
     ]
    }
   ],
   "source": [
    "def fibonacci_series(n):\n",
    "    fib_series = []\n",
    "    if n == 0:\n",
    "        return [0]\n",
    "    elif n == 1:\n",
    "        return [0, 1]\n",
    "    else:\n",
    "        fib_series = [0, 1]\n",
    "        for i in range(2, n):\n",
    "            fib_series.append(fib_series[-1] + fib_series[-2])\n",
    "        return fib_series\n",
    "\n",
    "# Example usage:\n",
    "n = int(input(\"Enter the number of terms for Fibonacci series: \"))\n",
    "fib_series = fibonacci_series(n)\n",
    "print(\"Fibonacci series up to\", n, \"terms:\", fib_series)\n"
   ]
  },
  {
   "cell_type": "code",
   "execution_count": 4,
   "id": "f558227a",
   "metadata": {},
   "outputs": [
    {
     "ename": "SyntaxError",
     "evalue": "invalid syntax (1360778935.py, line 19)",
     "output_type": "error",
     "traceback": [
      "\u001b[1;36m  Cell \u001b[1;32mIn[4], line 19\u001b[1;36m\u001b[0m\n\u001b[1;33m    if(i >= 10) break\u001b[0m\n\u001b[1;37m                ^\u001b[0m\n\u001b[1;31mSyntaxError\u001b[0m\u001b[1;31m:\u001b[0m invalid syntax\n"
     ]
    }
   ],
   "source": []
  },
  {
   "cell_type": "code",
   "execution_count": 9,
   "id": "53968fa5",
   "metadata": {},
   "outputs": [
    {
     "ename": "SyntaxError",
     "evalue": "expected ':' (1254762170.py, line 19)",
     "output_type": "error",
     "traceback": [
      "\u001b[1;36m  Cell \u001b[1;32mIn[9], line 19\u001b[1;36m\u001b[0m\n\u001b[1;33m    if(i >= 10)\u001b[0m\n\u001b[1;37m                ^\u001b[0m\n\u001b[1;31mSyntaxError\u001b[0m\u001b[1;31m:\u001b[0m expected ':'\n"
     ]
    }
   ],
   "source": [
    "def fibonacci_recursive(n, step_count=0):\n",
    "    if n <= 0:\n",
    "        return 1, step_count\n",
    "    elif n == 1:\n",
    "        return 1, step_count\n",
    "    else:\n",
    "        step_count += 1\n",
    "        fib1, step_count = fibonacci_recursive(n - 1, step_count)\n",
    "        fib2, step_count = fibonacci_recursive(n - 2, step_count)\n",
    "        return fib1 + fib2, step_count\n",
    "\n",
    "def fibonacci_non_recursive(n):\n",
    "    step_count = 0\n",
    "    fib = [1, 1]\n",
    "    for i in range(2, n):\n",
    "        step_count += 1\n",
    "        next_fib = fib[i - 1] + fib[i - 2]\n",
    "        fib.append(next_fib)\n",
    "        if(i >= 10) \n",
    "        break:\n",
    "    return fib, step_count\n",
    "\n",
    "n = int(input(\"Enter the number of terms: \"))\n",
    "\n",
    "if n <= 0:\n",
    "    print(\"Invalid input. Please enter a positive integer.\")\n",
    "else:\n",
    "    fib_recursive_value, step_count_recursive = fibonacci_recursive(n)\n",
    "    fib_non_recursive_series, step_count_non_recursive = fibonacci_non_recursive(n)\n",
    "\n",
    "    print(f\"Fibonacci series up to {n} terms (recursive) is:\")\n",
    "    for i in range(n):\n",
    "        print(fibonacci_recursive(i)[0], end=\", \")\n",
    "    print(f\"\\nTotal steps (recursive): {step_count_recursive}\")\n",
    "\n",
    "    print(f\"\\nFibonacci series up to {n} terms (non-recursive) is:\")\n",
    "    for i in range(n):\n",
    "        print(fib_non_recursive_series[i], end=\", \")\n",
    "    print(f\"\\nTotal steps (non-recursive): {step_count_non_recursive}\")"
   ]
  },
  {
   "cell_type": "code",
   "execution_count": 14,
   "id": "82df858f",
   "metadata": {},
   "outputs": [
    {
     "name": "stdout",
     "output_type": "stream",
     "text": [
      "Enter the number of terms for Fibonacci series: 1\n",
      "Fibonacci series up to 1 terms: [0, 1]\n",
      "Number of steps taken: 2\n"
     ]
    }
   ],
   "source": [
    "def fibonacci_series(n):\n",
    "    fib_series = []\n",
    "    steps = 0  # Initialize step count\n",
    "    if n == 0:\n",
    "        return [0], steps\n",
    "    elif n == 1:\n",
    "        return [0, 1], steps\n",
    "    else:\n",
    "        fib_series = [0, 1]\n",
    "        steps += 2  # Update step count for the initialization\n",
    "        for i in range(2, n):\n",
    "            fib_series.append(fib_series[-1] + fib_series[-2])\n",
    "            steps += 1  # Increment step count for each iteration\n",
    "        return fib_series, steps\n",
    "\n",
    "# Example usage:\n",
    "n = int(input(\"Enter the number of terms for Fibonacci series: \"))\n",
    "fib_series, steps = fibonacci_series(n)\n",
    "print(\"Fibonacci series up to\", n, \"terms:\", fib_series)\n",
    "print(\"Number of steps taken:\", steps)\n"
   ]
  },
  {
   "cell_type": "code",
   "execution_count": 18,
   "id": "2a2b7d24",
   "metadata": {},
   "outputs": [
    {
     "ename": "IndentationError",
     "evalue": "unexpected indent (501172282.py, line 25)",
     "output_type": "error",
     "traceback": [
      "\u001b[1;36m  Cell \u001b[1;32mIn[18], line 25\u001b[1;36m\u001b[0m\n\u001b[1;33m    if n <= 0:\u001b[0m\n\u001b[1;37m    ^\u001b[0m\n\u001b[1;31mIndentationError\u001b[0m\u001b[1;31m:\u001b[0m unexpected indent\n"
     ]
    }
   ],
   "source": [
    "def fibonacci_recursive(n, step_count=0):\n",
    "    if n <= 0:\n",
    "        return 1, step_count\n",
    "    elif n == 1:\n",
    "        return 1, step_count\n",
    "    else:\n",
    "        step_count += 1\n",
    "        fib1, step_count = fibonacci_recursive(n - 1, step_count)\n",
    "        fib2, step_count = fibonacci_recursive(n - 2, step_count)\n",
    "        return fib1 + fib2, step_count\n",
    "\n",
    "def fibonacci_non_recursive(n):\n",
    "    step_count = 0\n",
    "    fib = [1, 1]\n",
    "    for i in range(2, n):\n",
    "        step_count += 1\n",
    "        next_fib = fib[i - 1] + fib[i - 2]\n",
    "        fib.append(next_fib)\n",
    "        if(i >= 10):\n",
    "            break\n",
    "    return fib, step_count\n",
    "\n",
    "n = int(input(\"Enter the number of terms: \"))\n",
    "\n",
    "    if n <= 0:\n",
    "        print(\"Invalid input. Please enter a positive integer.\")\n",
    "else:\n",
    "    fib_recursive_value, step_count_recursive = fibonacci_recursive(n)\n",
    "    fib_non_recursive_series, step_count_non_recursive = fibonacci_non_recursive(n)\n",
    "\n",
    "    print(f\"Fibonacci series up to {n} terms (recursive) is:\")\n",
    "    for i in range(n):\n",
    "        print(fibonacci_recursive(i)[0], end=\", \")\n",
    "    print(f\"\\nTotal steps (recursive): {step_count_recursive}\")\n",
    "\n",
    "    print(f\"\\nFibonacci series up to {n} terms (non-recursive) is:\")\n",
    "    for i in range(n):\n",
    "        print(fib_non_recursive_series[i], end=\", \")\n",
    "    print(f\"\\nTotal steps (non-recursive): {step_count_non_recursive}\")"
   ]
  },
  {
   "cell_type": "code",
   "execution_count": null,
   "id": "f6be6955",
   "metadata": {},
   "outputs": [],
   "source": []
  }
 ],
 "metadata": {
  "kernelspec": {
   "display_name": "Python 3 (ipykernel)",
   "language": "python",
   "name": "python3"
  },
  "language_info": {
   "codemirror_mode": {
    "name": "ipython",
    "version": 3
   },
   "file_extension": ".py",
   "mimetype": "text/x-python",
   "name": "python",
   "nbconvert_exporter": "python",
   "pygments_lexer": "ipython3",
   "version": "3.11.3"
  }
 },
 "nbformat": 4,
 "nbformat_minor": 5
}
