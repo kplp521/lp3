{
 "cells": [
  {
   "cell_type": "code",
   "execution_count": 2,
   "id": "170696b2",
   "metadata": {},
   "outputs": [
    {
     "name": "stdout",
     "output_type": "stream",
     "text": [
      "Maximum value in the knapsack: 266.66666666666663\n"
     ]
    }
   ],
   "source": [
    "# Function to solve the Fractional Knapsack problem\n",
    "def fractional_knapsack(items, capacity):\n",
    "    # Calculate the value-to-weight ratio for each item\n",
    "    for item in items:\n",
    "        item['ratio'] = item['value'] / item['weight']\n",
    "\n",
    "    # Sort the items by the value-to-weight ratio in descending order\n",
    "    items.sort(key=lambda x: x['ratio'], reverse=True)\n",
    "\n",
    "    total_value = 0.0\n",
    "    knapsack = []\n",
    "\n",
    "    for item in items:\n",
    "        if capacity >= item['weight']:\n",
    "            # If the entire item can be added, add it and update capacity\n",
    "            knapsack.append(item)\n",
    "            total_value += item['value']\n",
    "            capacity -= item['weight']\n",
    "        else:\n",
    "            # If only a fraction of the item can be added, add a fraction\n",
    "            fraction = capacity / item['weight']\n",
    "            knapsack.append({'name': item['name'], 'weight': item['weight'] * fraction, 'value': item['value'] * fraction})\n",
    "            total_value += item['value'] * fraction\n",
    "            break\n",
    "\n",
    "    return knapsack, total_value\n",
    "\n",
    "# Example usage\n",
    "if __name__ == \"__main__\":\n",
    "    items = [\n",
    "        {'name': 'item1', 'weight': 10, 'value': 60},\n",
    "        {'name': 'item2', 'weight': 20, 'value': 120},\n",
    "        {'name': 'item3', 'weight': 30, 'value': 130}\n",
    "    ]\n",
    "\n",
    "    max_capacity = 50\n",
    "\n",
    "    knapsack_items, max_value = fractional_knapsack(items, max_capacity)\n",
    "\n",
    "    print(f\"Maximum value in the knapsack: {max_value}\")"
   ]
  },
  {
   "cell_type": "code",
   "execution_count": null,
   "id": "fe05098b",
   "metadata": {},
   "outputs": [],
   "source": []
  }
 ],
 "metadata": {
  "kernelspec": {
   "display_name": "Python 3 (ipykernel)",
   "language": "python",
   "name": "python3"
  },
  "language_info": {
   "codemirror_mode": {
    "name": "ipython",
    "version": 3
   },
   "file_extension": ".py",
   "mimetype": "text/x-python",
   "name": "python",
   "nbconvert_exporter": "python",
   "pygments_lexer": "ipython3",
   "version": "3.11.3"
  }
 },
 "nbformat": 4,
 "nbformat_minor": 5
}
