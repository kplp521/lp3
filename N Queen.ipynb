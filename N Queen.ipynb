{
 "cells": [
  {
   "cell_type": "code",
   "execution_count": 2,
   "id": "a66ba0a4",
   "metadata": {},
   "outputs": [
    {
     "name": "stdout",
     "output_type": "stream",
     "text": [
      "Solution found:\n",
      "Q - - - - - - - - -\n",
      "- - - - - - - Q - -\n",
      "- Q - - - - - - - -\n",
      "- - - - - - - - Q -\n",
      "- - - - - Q - - - -\n",
      "- - Q - - - - - - -\n",
      "- - - - - - - - - Q\n",
      "- - - Q - - - - - -\n",
      "- - - - - - Q - - -\n",
      "- - - - Q - - - - -\n"
     ]
    }
   ],
   "source": [
    "def is_safe(board, row, col):\n",
    "    # Check the row on the left side\n",
    "    for i in range(col):\n",
    "        if board[row][i] == 1:\n",
    "            return False\n",
    "\n",
    "    # Check upper diagonal on the left side\n",
    "    for i, j in zip(range(row, -1, -1), range(col, -1, -1)):\n",
    "        if board[i][j] == 1:\n",
    "            return False\n",
    "\n",
    "    # Check lower diagonal on the left side\n",
    "    for i, j in zip(range(row, len(board), 1), range(col, -1, -1)):\n",
    "        if board[i][j] == 1:\n",
    "            return False\n",
    "\n",
    "    return True\n",
    "\n",
    "def solve_n_queens(board, col):\n",
    "    if col == len(board):\n",
    "        return True\n",
    "\n",
    "    for i in range(len(board)):\n",
    "        if is_safe(board, i, col):\n",
    "            board[i][col] = 1\n",
    "            if solve_n_queens(board, col + 1):\n",
    "                return True\n",
    "            board[i][col] = 0  # Backtrack if placement leads to no solution\n",
    "\n",
    "    return False\n",
    "\n",
    "def print_board(board):\n",
    "    for row in board:\n",
    "        print(\" \".join([\"Q\" if cell == 1 else \"-\" for cell in row]))\n",
    "\n",
    "# Create an 8x8 chessboard with all cells initialized to 0\n",
    "n = 10\n",
    "chessboard = [[0 for _ in range(n)] for _ in range(n)]\n",
    "\n",
    "# Place the first queen in the first row, first column\n",
    "chessboard[0][0] = 1\n",
    "\n",
    "# Try to solve the remaining queens\n",
    "if solve_n_queens(chessboard, 1):\n",
    "    print(\"Solution found:\")\n",
    "    print_board(chessboard)\n",
    "else:\n",
    "    print(\"No solution exists.\")"
   ]
  },
  {
   "cell_type": "code",
   "execution_count": null,
   "id": "af07e865",
   "metadata": {},
   "outputs": [],
   "source": []
  }
 ],
 "metadata": {
  "kernelspec": {
   "display_name": "Python 3 (ipykernel)",
   "language": "python",
   "name": "python3"
  },
  "language_info": {
   "codemirror_mode": {
    "name": "ipython",
    "version": 3
   },
   "file_extension": ".py",
   "mimetype": "text/x-python",
   "name": "python",
   "nbconvert_exporter": "python",
   "pygments_lexer": "ipython3",
   "version": "3.11.3"
  }
 },
 "nbformat": 4,
 "nbformat_minor": 5
}
